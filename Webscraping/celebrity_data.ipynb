{
 "cells": [
  {
   "cell_type": "code",
   "execution_count": 42,
   "metadata": {},
   "outputs": [],
   "source": [
    "import pandas as pd\n",
    "import nltk"
   ]
  },
  {
   "cell_type": "code",
   "execution_count": 82,
   "metadata": {},
   "outputs": [],
   "source": [
    "df=pd.read_csv('celeb2.csv')"
   ]
  },
  {
   "cell_type": "code",
   "execution_count": 83,
   "metadata": {},
   "outputs": [
    {
     "data": {
      "text/html": [
       "<div>\n",
       "<style scoped>\n",
       "    .dataframe tbody tr th:only-of-type {\n",
       "        vertical-align: middle;\n",
       "    }\n",
       "\n",
       "    .dataframe tbody tr th {\n",
       "        vertical-align: top;\n",
       "    }\n",
       "\n",
       "    .dataframe thead th {\n",
       "        text-align: right;\n",
       "    }\n",
       "</style>\n",
       "<table border=\"1\" class=\"dataframe\">\n",
       "  <thead>\n",
       "    <tr style=\"text-align: right;\">\n",
       "      <th></th>\n",
       "      <th>Unnamed: 0</th>\n",
       "      <th>Customer_Name</th>\n",
       "      <th>Celebrity_des</th>\n",
       "      <th>Image</th>\n",
       "    </tr>\n",
       "  </thead>\n",
       "  <tbody>\n",
       "    <tr>\n",
       "      <th>0</th>\n",
       "      <td>0</td>\n",
       "      <td>Aamir Khan</td>\n",
       "      <td>eval(ez_write_tag([[728,90],'celebrities_galor...</td>\n",
       "      <td>https://www.celebrities-galore.com/celebrities...</td>\n",
       "    </tr>\n",
       "    <tr>\n",
       "      <th>1</th>\n",
       "      <td>1</td>\n",
       "      <td>Akshay Kumar</td>\n",
       "      <td>eval(ez_write_tag([[728,90],'celebrities_galor...</td>\n",
       "      <td>https://www.celebrities-galore.com/celebrities...</td>\n",
       "    </tr>\n",
       "    <tr>\n",
       "      <th>2</th>\n",
       "      <td>2</td>\n",
       "      <td>Ajay Devgn</td>\n",
       "      <td>Sorry, but the page you are trying to view doe...</td>\n",
       "      <td>NONE</td>\n",
       "    </tr>\n",
       "    <tr>\n",
       "      <th>3</th>\n",
       "      <td>3</td>\n",
       "      <td>Amjad Khan</td>\n",
       "      <td>Amjad Khan is a male celebrity.He was born on ...</td>\n",
       "      <td>NONE</td>\n",
       "    </tr>\n",
       "    <tr>\n",
       "      <th>4</th>\n",
       "      <td>4</td>\n",
       "      <td>Amitabh Bachchan</td>\n",
       "      <td>eval(ez_write_tag([[728,90],'celebrities_galor...</td>\n",
       "      <td>https://www.celebrities-galore.com/celebrities...</td>\n",
       "    </tr>\n",
       "  </tbody>\n",
       "</table>\n",
       "</div>"
      ],
      "text/plain": [
       "   Unnamed: 0     Customer_Name  \\\n",
       "0           0        Aamir Khan   \n",
       "1           1      Akshay Kumar   \n",
       "2           2        Ajay Devgn   \n",
       "3           3        Amjad Khan   \n",
       "4           4  Amitabh Bachchan   \n",
       "\n",
       "                                       Celebrity_des  \\\n",
       "0  eval(ez_write_tag([[728,90],'celebrities_galor...   \n",
       "1  eval(ez_write_tag([[728,90],'celebrities_galor...   \n",
       "2  Sorry, but the page you are trying to view doe...   \n",
       "3  Amjad Khan is a male celebrity.He was born on ...   \n",
       "4  eval(ez_write_tag([[728,90],'celebrities_galor...   \n",
       "\n",
       "                                               Image  \n",
       "0  https://www.celebrities-galore.com/celebrities...  \n",
       "1  https://www.celebrities-galore.com/celebrities...  \n",
       "2                                               NONE  \n",
       "3                                               NONE  \n",
       "4  https://www.celebrities-galore.com/celebrities...  "
      ]
     },
     "execution_count": 83,
     "metadata": {},
     "output_type": "execute_result"
    }
   ],
   "source": [
    "df.head()"
   ]
  },
  {
   "cell_type": "code",
   "execution_count": 84,
   "metadata": {},
   "outputs": [],
   "source": [
    "#remove rows which do not have description\n",
    "indexNames = df[ df['Celebrity_des'] == df.iloc[2][\"Celebrity_des\"] ].index\n",
    "\n",
    "# Delete these row indexes from dataFrame\n",
    "df.drop(indexNames , inplace=True)"
   ]
  },
  {
   "cell_type": "code",
   "execution_count": 85,
   "metadata": {},
   "outputs": [],
   "source": [
    "clean_sentences = df[\"Celebrity_des\"].str.replace(\"[^a-zA-Z]\", \" \")"
   ]
  },
  {
   "cell_type": "code",
   "execution_count": 86,
   "metadata": {},
   "outputs": [
    {
     "name": "stderr",
     "output_type": "stream",
     "text": [
      "[nltk_data] Downloading package stopwords to\n",
      "[nltk_data]     C:\\Users\\91902\\AppData\\Roaming\\nltk_data...\n",
      "[nltk_data]   Package stopwords is already up-to-date!\n"
     ]
    },
    {
     "data": {
      "text/plain": [
       "True"
      ]
     },
     "execution_count": 86,
     "metadata": {},
     "output_type": "execute_result"
    }
   ],
   "source": [
    "nltk.download('stopwords')# one time execution"
   ]
  },
  {
   "cell_type": "code",
   "execution_count": 87,
   "metadata": {},
   "outputs": [],
   "source": [
    "from nltk.corpus import stopwords\n",
    "stop_words = stopwords.words('english')"
   ]
  },
  {
   "cell_type": "code",
   "execution_count": 88,
   "metadata": {},
   "outputs": [],
   "source": [
    "# function to remove stopwords\n",
    "def remove_stopwords(sen):\n",
    "  sen_new = \" \".join([i for i in sen if i not in stop_words])\n",
    "  return sen_new"
   ]
  },
  {
   "cell_type": "code",
   "execution_count": 89,
   "metadata": {},
   "outputs": [],
   "source": [
    "clean_sentences = [remove_stopwords(r.split()) for r in clean_sentences]"
   ]
  },
  {
   "cell_type": "code",
   "execution_count": 104,
   "metadata": {},
   "outputs": [],
   "source": [
    "df1=pd.read_excel('traits.xlsx')"
   ]
  },
  {
   "cell_type": "code",
   "execution_count": 105,
   "metadata": {},
   "outputs": [
    {
     "ename": "AttributeError",
     "evalue": "'bool' object has no attribute 'lower'",
     "output_type": "error",
     "traceback": [
      "\u001b[1;31m---------------------------------------------------------------------------\u001b[0m",
      "\u001b[1;31mAttributeError\u001b[0m                            Traceback (most recent call last)",
      "\u001b[1;32m<ipython-input-105-31f3fde85786>\u001b[0m in \u001b[0;36m<module>\u001b[1;34m\u001b[0m\n\u001b[0;32m      2\u001b[0m \u001b[1;33m\u001b[0m\u001b[0m\n\u001b[0;32m      3\u001b[0m \u001b[1;32mfor\u001b[0m \u001b[0mi\u001b[0m \u001b[1;32min\u001b[0m \u001b[0mrange\u001b[0m\u001b[1;33m(\u001b[0m\u001b[0mlen\u001b[0m\u001b[1;33m(\u001b[0m\u001b[0mtraits\u001b[0m\u001b[1;33m)\u001b[0m\u001b[1;33m)\u001b[0m\u001b[1;33m:\u001b[0m\u001b[1;33m\u001b[0m\u001b[1;33m\u001b[0m\u001b[0m\n\u001b[1;32m----> 4\u001b[1;33m     \u001b[0mtraits\u001b[0m\u001b[1;33m[\u001b[0m\u001b[0mi\u001b[0m\u001b[1;33m]\u001b[0m\u001b[1;33m.\u001b[0m\u001b[0mlower\u001b[0m\u001b[1;33m(\u001b[0m\u001b[1;33m)\u001b[0m\u001b[1;33m.\u001b[0m\u001b[0mstrip\u001b[0m\u001b[1;33m(\u001b[0m\u001b[1;33m)\u001b[0m\u001b[1;33m\u001b[0m\u001b[1;33m\u001b[0m\u001b[0m\n\u001b[0m\u001b[0;32m      5\u001b[0m \u001b[1;33m\u001b[0m\u001b[0m\n",
      "\u001b[1;31mAttributeError\u001b[0m: 'bool' object has no attribute 'lower'"
     ]
    }
   ],
   "source": [
    "traits=df1['traits'].tolist()\n",
    "\n",
    "for i in range(len(traits)):\n",
    "    traits[i]=traits[i].lower().strip()\n",
    "    "
   ]
  },
  {
   "cell_type": "code",
   "execution_count": 93,
   "metadata": {},
   "outputs": [],
   "source": [
    "personality_traits=[]\n",
    "for each in clean_sentences:\n",
    "    l=each.split()\n",
    "    c=[]\n",
    "    for word in l:\n",
    "        if word in traits:\n",
    "            c.append(word)\n",
    "    personality_traits.append(c)\n",
    "            \n",
    "    "
   ]
  },
  {
   "cell_type": "code",
   "execution_count": 94,
   "metadata": {},
   "outputs": [],
   "source": [
    "df[\"Personality_traits\"]=personality_traits"
   ]
  },
  {
   "cell_type": "code",
   "execution_count": 95,
   "metadata": {},
   "outputs": [
    {
     "data": {
      "text/html": [
       "<div>\n",
       "<style scoped>\n",
       "    .dataframe tbody tr th:only-of-type {\n",
       "        vertical-align: middle;\n",
       "    }\n",
       "\n",
       "    .dataframe tbody tr th {\n",
       "        vertical-align: top;\n",
       "    }\n",
       "\n",
       "    .dataframe thead th {\n",
       "        text-align: right;\n",
       "    }\n",
       "</style>\n",
       "<table border=\"1\" class=\"dataframe\">\n",
       "  <thead>\n",
       "    <tr style=\"text-align: right;\">\n",
       "      <th></th>\n",
       "      <th>Unnamed: 0</th>\n",
       "      <th>Customer_Name</th>\n",
       "      <th>Celebrity_des</th>\n",
       "      <th>Image</th>\n",
       "      <th>Personality_traits</th>\n",
       "    </tr>\n",
       "  </thead>\n",
       "  <tbody>\n",
       "    <tr>\n",
       "      <th>0</th>\n",
       "      <td>0</td>\n",
       "      <td>Aamir Khan</td>\n",
       "      <td>eval(ez_write_tag([[728,90],'celebrities_galor...</td>\n",
       "      <td>https://www.celebrities-galore.com/celebrities...</td>\n",
       "      <td>[popular, dynamic, efficient, capable, dignifi...</td>\n",
       "    </tr>\n",
       "    <tr>\n",
       "      <th>1</th>\n",
       "      <td>1</td>\n",
       "      <td>Akshay Kumar</td>\n",
       "      <td>eval(ez_write_tag([[728,90],'celebrities_galor...</td>\n",
       "      <td>https://www.celebrities-galore.com/celebrities...</td>\n",
       "      <td>[winning, understanding, balanced, romantic, f...</td>\n",
       "    </tr>\n",
       "    <tr>\n",
       "      <th>3</th>\n",
       "      <td>3</td>\n",
       "      <td>Amjad Khan</td>\n",
       "      <td>Amjad Khan is a male celebrity.He was born on ...</td>\n",
       "      <td>NONE</td>\n",
       "      <td>[understanding, balanced, romantic, faithful, ...</td>\n",
       "    </tr>\n",
       "    <tr>\n",
       "      <th>4</th>\n",
       "      <td>4</td>\n",
       "      <td>Amitabh Bachchan</td>\n",
       "      <td>eval(ez_write_tag([[728,90],'celebrities_galor...</td>\n",
       "      <td>https://www.celebrities-galore.com/celebrities...</td>\n",
       "      <td>[impressive, upright, elegant, charismatic, ki...</td>\n",
       "    </tr>\n",
       "    <tr>\n",
       "      <th>5</th>\n",
       "      <td>5</td>\n",
       "      <td>Amol Palekar</td>\n",
       "      <td>Amol Palekar is a Bollywood Actor and Director...</td>\n",
       "      <td>NONE</td>\n",
       "      <td>[dynamic, efficient, capable, dignified, carin...</td>\n",
       "    </tr>\n",
       "  </tbody>\n",
       "</table>\n",
       "</div>"
      ],
      "text/plain": [
       "   Unnamed: 0     Customer_Name  \\\n",
       "0           0        Aamir Khan   \n",
       "1           1      Akshay Kumar   \n",
       "3           3        Amjad Khan   \n",
       "4           4  Amitabh Bachchan   \n",
       "5           5      Amol Palekar   \n",
       "\n",
       "                                       Celebrity_des  \\\n",
       "0  eval(ez_write_tag([[728,90],'celebrities_galor...   \n",
       "1  eval(ez_write_tag([[728,90],'celebrities_galor...   \n",
       "3  Amjad Khan is a male celebrity.He was born on ...   \n",
       "4  eval(ez_write_tag([[728,90],'celebrities_galor...   \n",
       "5  Amol Palekar is a Bollywood Actor and Director...   \n",
       "\n",
       "                                               Image  \\\n",
       "0  https://www.celebrities-galore.com/celebrities...   \n",
       "1  https://www.celebrities-galore.com/celebrities...   \n",
       "3                                               NONE   \n",
       "4  https://www.celebrities-galore.com/celebrities...   \n",
       "5                                               NONE   \n",
       "\n",
       "                                  Personality_traits  \n",
       "0  [popular, dynamic, efficient, capable, dignifi...  \n",
       "1  [winning, understanding, balanced, romantic, f...  \n",
       "3  [understanding, balanced, romantic, faithful, ...  \n",
       "4  [impressive, upright, elegant, charismatic, ki...  \n",
       "5  [dynamic, efficient, capable, dignified, carin...  "
      ]
     },
     "execution_count": 95,
     "metadata": {},
     "output_type": "execute_result"
    }
   ],
   "source": [
    "df.head()"
   ]
  },
  {
   "cell_type": "code",
   "execution_count": 96,
   "metadata": {},
   "outputs": [],
   "source": [
    "finaldf=df[['Customer_Name','Image','Personality_traits']]"
   ]
  },
  {
   "cell_type": "code",
   "execution_count": 97,
   "metadata": {},
   "outputs": [
    {
     "data": {
      "text/html": [
       "<div>\n",
       "<style scoped>\n",
       "    .dataframe tbody tr th:only-of-type {\n",
       "        vertical-align: middle;\n",
       "    }\n",
       "\n",
       "    .dataframe tbody tr th {\n",
       "        vertical-align: top;\n",
       "    }\n",
       "\n",
       "    .dataframe thead th {\n",
       "        text-align: right;\n",
       "    }\n",
       "</style>\n",
       "<table border=\"1\" class=\"dataframe\">\n",
       "  <thead>\n",
       "    <tr style=\"text-align: right;\">\n",
       "      <th></th>\n",
       "      <th>Customer_Name</th>\n",
       "      <th>Image</th>\n",
       "      <th>Personality_traits</th>\n",
       "    </tr>\n",
       "  </thead>\n",
       "  <tbody>\n",
       "    <tr>\n",
       "      <th>0</th>\n",
       "      <td>Aamir Khan</td>\n",
       "      <td>https://www.celebrities-galore.com/celebrities...</td>\n",
       "      <td>[popular, dynamic, efficient, capable, dignifi...</td>\n",
       "    </tr>\n",
       "    <tr>\n",
       "      <th>1</th>\n",
       "      <td>Akshay Kumar</td>\n",
       "      <td>https://www.celebrities-galore.com/celebrities...</td>\n",
       "      <td>[winning, understanding, balanced, romantic, f...</td>\n",
       "    </tr>\n",
       "    <tr>\n",
       "      <th>3</th>\n",
       "      <td>Amjad Khan</td>\n",
       "      <td>NONE</td>\n",
       "      <td>[understanding, balanced, romantic, faithful, ...</td>\n",
       "    </tr>\n",
       "    <tr>\n",
       "      <th>4</th>\n",
       "      <td>Amitabh Bachchan</td>\n",
       "      <td>https://www.celebrities-galore.com/celebrities...</td>\n",
       "      <td>[impressive, upright, elegant, charismatic, ki...</td>\n",
       "    </tr>\n",
       "    <tr>\n",
       "      <th>5</th>\n",
       "      <td>Amol Palekar</td>\n",
       "      <td>NONE</td>\n",
       "      <td>[dynamic, efficient, capable, dignified, carin...</td>\n",
       "    </tr>\n",
       "    <tr>\n",
       "      <th>...</th>\n",
       "      <td>...</td>\n",
       "      <td>...</td>\n",
       "      <td>...</td>\n",
       "    </tr>\n",
       "    <tr>\n",
       "      <th>190</th>\n",
       "      <td>Vyjayanthimala</td>\n",
       "      <td>NONE</td>\n",
       "      <td>[dynamic, efficient, capable, dignified, carin...</td>\n",
       "    </tr>\n",
       "    <tr>\n",
       "      <th>191</th>\n",
       "      <td>Vidya Balan</td>\n",
       "      <td>https://www.celebrities-galore.com/celebrities...</td>\n",
       "      <td>[strong, serious, studious, independent, digni...</td>\n",
       "    </tr>\n",
       "    <tr>\n",
       "      <th>193</th>\n",
       "      <td>Waheeda Rehman</td>\n",
       "      <td>NONE</td>\n",
       "      <td>[serious, studious, independent, dignified, re...</td>\n",
       "    </tr>\n",
       "    <tr>\n",
       "      <th>195</th>\n",
       "      <td>Zeenat Aman</td>\n",
       "      <td>https://www.celebrities-galore.com/celebrities...</td>\n",
       "      <td>[modern, understanding, balanced, romantic, fa...</td>\n",
       "    </tr>\n",
       "    <tr>\n",
       "      <th>196</th>\n",
       "      <td>Zohra Sehgal</td>\n",
       "      <td>NONE</td>\n",
       "      <td>[strong, impressive, kind, generous, kind, str...</td>\n",
       "    </tr>\n",
       "  </tbody>\n",
       "</table>\n",
       "<p>95 rows × 3 columns</p>\n",
       "</div>"
      ],
      "text/plain": [
       "        Customer_Name                                              Image  \\\n",
       "0          Aamir Khan  https://www.celebrities-galore.com/celebrities...   \n",
       "1        Akshay Kumar  https://www.celebrities-galore.com/celebrities...   \n",
       "3          Amjad Khan                                               NONE   \n",
       "4    Amitabh Bachchan  https://www.celebrities-galore.com/celebrities...   \n",
       "5        Amol Palekar                                               NONE   \n",
       "..                ...                                                ...   \n",
       "190    Vyjayanthimala                                               NONE   \n",
       "191       Vidya Balan  https://www.celebrities-galore.com/celebrities...   \n",
       "193    Waheeda Rehman                                               NONE   \n",
       "195       Zeenat Aman  https://www.celebrities-galore.com/celebrities...   \n",
       "196      Zohra Sehgal                                               NONE   \n",
       "\n",
       "                                    Personality_traits  \n",
       "0    [popular, dynamic, efficient, capable, dignifi...  \n",
       "1    [winning, understanding, balanced, romantic, f...  \n",
       "3    [understanding, balanced, romantic, faithful, ...  \n",
       "4    [impressive, upright, elegant, charismatic, ki...  \n",
       "5    [dynamic, efficient, capable, dignified, carin...  \n",
       "..                                                 ...  \n",
       "190  [dynamic, efficient, capable, dignified, carin...  \n",
       "191  [strong, serious, studious, independent, digni...  \n",
       "193  [serious, studious, independent, dignified, re...  \n",
       "195  [modern, understanding, balanced, romantic, fa...  \n",
       "196  [strong, impressive, kind, generous, kind, str...  \n",
       "\n",
       "[95 rows x 3 columns]"
      ]
     },
     "execution_count": 97,
     "metadata": {},
     "output_type": "execute_result"
    }
   ],
   "source": [
    "finaldf"
   ]
  },
  {
   "cell_type": "code",
   "execution_count": 98,
   "metadata": {},
   "outputs": [],
   "source": [
    "finaldf.to_csv(\"finaldata.csv\")"
   ]
  },
  {
   "cell_type": "code",
   "execution_count": null,
   "metadata": {},
   "outputs": [],
   "source": []
  }
 ],
 "metadata": {
  "kernelspec": {
   "display_name": "Python 3",
   "language": "python",
   "name": "python3"
  },
  "language_info": {
   "codemirror_mode": {
    "name": "ipython",
    "version": 3
   },
   "file_extension": ".py",
   "mimetype": "text/x-python",
   "name": "python",
   "nbconvert_exporter": "python",
   "pygments_lexer": "ipython3",
   "version": "3.7.6"
  }
 },
 "nbformat": 4,
 "nbformat_minor": 2
}
